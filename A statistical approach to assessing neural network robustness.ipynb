{
 "cells": [
  {
   "cell_type": "code",
   "execution_count": 19,
   "metadata": {},
   "outputs": [],
   "source": [
    "import os\n",
    "os.environ[\"CUDA_VISIBLE_DEVICES\"]=\"2\"\n",
    "os.environ[\"CUDA_DEVICE_ORDER\"]=\"PCI_BUS_ID\" "
   ]
  },
  {
   "cell_type": "code",
   "execution_count": 20,
   "metadata": {},
   "outputs": [],
   "source": [
    "import tensorflow as tf\n",
    "import numpy as np\n",
    "import math"
   ]
  },
  {
   "cell_type": "code",
   "execution_count": 21,
   "metadata": {},
   "outputs": [],
   "source": [
    "((train_x, train_y),(eval_x, eval_y)) = tf.keras.datasets.mnist.load_data()\n",
    "train_x = train_x/np.float32(255)\n",
    "eval_x = eval_x/np.float32(255)"
   ]
  },
  {
   "cell_type": "code",
   "execution_count": 22,
   "metadata": {},
   "outputs": [],
   "source": [
    "class HParams(object):\n",
    "    def __init__(self, **kwargs):\n",
    "        self.dict_ = kwargs\n",
    "        self.__dict__.update(self.dict_)\n",
    "\n",
    "    def update_config(self, in_string):\n",
    "        pairs = in_string.split(\",\")\n",
    "        pairs = [pair.split(\"=\") for pair in pairs]\n",
    "        for key, val in pairs:\n",
    "            self.dict_[key] = type(self.dict_[key])(val)\n",
    "        self.__dict__.update(self.dict_)\n",
    "        return self\n",
    "\n",
    "    def __getitem__(self, key):\n",
    "        return self.dict_[key]\n",
    "\n",
    "    def __setitem__(self, key, val):\n",
    "        self.dict_[key] = val\n",
    "        self.__dict__.update(self.dict_)\n",
    "\n",
    "\n",
    "def get_default_hparams():\n",
    "    return HParams(\n",
    "        image_dim = 28,\n",
    "        epoch_num = 50,\n",
    "        batch_size = 1000,\n",
    "        learning_rate = 1e-3,\n",
    "        next_batch = 0)"
   ]
  },
  {
   "cell_type": "code",
   "execution_count": 23,
   "metadata": {},
   "outputs": [],
   "source": [
    "def bottleneck_block_resnet164(inputs, input_filters=64, training=True, scope='bottleneck_block_resetnet164'):\n",
    "    n_in = inputs.get_shape()[-1]\n",
    "    with tf.variable_scope(scope):\n",
    "        residual = inputs\n",
    "        h = tf.keras.layers.BatchNormalization(h, training=True, scope=\"bn_1\")\n",
    "        h = tf.nn.relu(h)\n",
    "        h = tf.layers.conv2d(inputs=inputs, filters=input_filters, kernel_size=[1,1], padding=\"same\", scope=\"conv1\")\n",
    "        \n",
    "        h = tf.keras.layers.BatchNormalization(h, training=True, scope=\"bn_2\")\n",
    "        h = tf.nn.relu(h)\n",
    "        h = tf.layers.conv2d(inputs=h, filters=input_filters, kernel_size=[3,3], padding=\"same\", scope=\"conv2\")\n",
    "        \n",
    "        h = tf.keras.layers.BatchNormalization(h, training=True, scope=\"bn_3\")\n",
    "        h = tf.layers.conv2d(inputs=h, filters=input_filters*4, kernel_size=[1,1], padding=\"same\", scope=\"conv3\")\n",
    "        \n",
    "        if n_in != inputs_filters*4:\n",
    "            shortcut = tf.layers.conv2d(inputs=inputs, filters=inputs_filters*4, kernel_size=[1,1], scope=\"conv4\")\n",
    "        else:\n",
    "            shortcut = inputs\n",
    "        return tf.nn.relu(shortcut + h)"
   ]
  },
  {
   "cell_type": "code",
   "execution_count": 24,
   "metadata": {},
   "outputs": [],
   "source": [
    "def conv_pool(inputs, filters=32, kernel_size=[5,5], pool_size=[2,2]):\n",
    "    conv = tf.layers.conv2d(\n",
    "        inputs=inputs,\n",
    "        filters=filters,\n",
    "        kernel_size=kernel_size,\n",
    "        padding=\"same\",\n",
    "        activation=tf.nn.relu)\n",
    "    pool = tf.layers.max_pooling2d(inputs=conv, pool_size=pool_size, strides=2)\n",
    "    return pool\n",
    "\n",
    "def dense_layer(inputs, reshape=(7,7,64), units=1024, drop_out=True, drop_out_rate=0.4, training=True):\n",
    "    inputs = tf.reshape(inputs, [-1, reshape[0]*reshape[1]*reshape[2]])\n",
    "    dense = tf.layers.dense(inputs=inputs, units=units, activation=tf.nn.relu)\n",
    "    dropout = tf.layers.dropout(inputs=dense, rate=drop_out_rate, training=training)\n",
    "    return dropout\n",
    "\n"
   ]
  },
  {
   "cell_type": "code",
   "execution_count": 25,
   "metadata": {},
   "outputs": [],
   "source": [
    "def cnn_model(inputs, training=True):\n",
    "    with tf.variable_scope(\"cnn_model\", reuse=tf.AUTO_REUSE):\n",
    "        inputs = tf.expand_dims(inputs, 3)\n",
    "        conv1 = conv_pool(inputs)\n",
    "        conv2 = conv_pool(conv1, filters=64)\n",
    "        dense = dense_layer(conv2, training=training)\n",
    "        logits = tf.layers.dense(inputs=dense, units=10)\n",
    "    return logits"
   ]
  },
  {
   "cell_type": "code",
   "execution_count": 26,
   "metadata": {},
   "outputs": [],
   "source": [
    "def get_batch(data, batch_num, batch_size=100):\n",
    "    if batch_size == 0:\n",
    "        raise ValueError(\"batch_size cannot be zero\")\n",
    "    elif batch_num < 0:\n",
    "        raise ValueError(\"batch_num must be larger than or equal to zero\")\n",
    "    elif data is np.ndarray:\n",
    "        raise TypeError(\"input data should be numpy.ndarray\")\n",
    "    elif data.shape[0] < batch_size:\n",
    "        raise TypeError(\"please reduce the batch_size less than the data number\")\n",
    "    number_of_batch = data.shape[0]//batch_size\n",
    "    if batch_num >= number_of_batch:\n",
    "        end_of_batch = True\n",
    "    else:\n",
    "        end_of_batch = False\n",
    "    batch_num = batch_num % number_of_batch\n",
    "    return data[batch_num*batch_size:(batch_num+1)*batch_size], end_of_batch"
   ]
  },
  {
   "cell_type": "code",
   "execution_count": 27,
   "metadata": {},
   "outputs": [],
   "source": [
    "def training(train_x, train_y, hps, restore=False, save=False, path=\"./trained_model\", filename=\"model.ckpt\"):\n",
    "    tf.reset_default_graph()\n",
    "    with tf.Session() as sess:\n",
    "        inputs = tf.placeholder(tf.float32, shape=(None, hps.image_dim, hps.image_dim))\n",
    "        labels = tf.placeholder(tf.int32, shape=(None))\n",
    "        logits = cnn_model(inputs)\n",
    "        loss = tf.losses.sparse_softmax_cross_entropy(labels=labels, logits=logits)\n",
    "        optimizer = tf.train.AdamOptimizer(learning_rate=hps.learning_rate).minimize(loss)\n",
    "        saver = tf.train.Saver()\n",
    "\n",
    "        sess.run([tf.global_variables_initializer()])\n",
    "        if restore:\n",
    "            saver.restore(sess, \"{0}/{1}\".format(path, filename))\n",
    "\n",
    "        for epoch in range(hps.epoch_num):\n",
    "            next_batch = hps.next_batch\n",
    "            while True:\n",
    "                train_data, end_of_batch = get_batch(train_x, batch_size=hps.batch_size, batch_num=next_batch)\n",
    "                train_labels, _ = get_batch(train_y, batch_size=hps.batch_size, batch_num=next_batch)\n",
    "                next_batch += 1\n",
    "                sess.run(optimizer, feed_dict={inputs: train_data, labels: train_labels})\n",
    "                loss_run_time = sess.run(loss, feed_dict={inputs: train_data, labels: train_labels})\n",
    "                if end_of_batch:\n",
    "                    break\n",
    "            print(\"Epoch: {}, Loss:{}\".format(epoch, loss_run_time))\n",
    "        if save:\n",
    "            save_path = saver.save(sess, \"{0}/{1}\".format(path, filename))\n",
    "            print(\"Model is saved to {0}\".format(save_path))\n",
    "        "
   ]
  },
  {
   "cell_type": "code",
   "execution_count": 28,
   "metadata": {},
   "outputs": [],
   "source": [
    "def evaluation(eval_x, eval_y, hps, path=\"./trained_model\", filename=\"model.ckpt\"):\n",
    "    tf.reset_default_graph()\n",
    "    with tf.Session() as sess:\n",
    "        inputs = tf.placeholder(tf.float32, shape=(None, image_dim, image_dim))\n",
    "        labels = tf.placeholder(tf.int32, shape=(None))\n",
    "        logits = cnn_model(inputs, training=False)\n",
    "        loss = tf.losses.sparse_softmax_cross_entropy(labels=labels, logits=logits)\n",
    "        saver = tf.train.Saver()\n",
    "        sess.run([tf.global_variables_initializer()])\n",
    "        saver.restore(sess, \"./trained_model/model.ckpt\")\n",
    "        loss_run_time, logits_run_time = sess.run([loss, logits], feed_dict={inputs: eval_x, labels: eval_y})\n",
    "        accuracy = 100 * np.sum(np.argmax(logits_run_time, axis=1) == eval_y) / eval_y.shape[0]\n",
    "        print(\"Loss:{}, Accuracy:{}%\".format(loss_run_time, accuracy))"
   ]
  },
  {
   "cell_type": "code",
   "execution_count": 83,
   "metadata": {},
   "outputs": [],
   "source": [
    "def uniform_perturbation(sample, x_min, x_max, n=1, sigma=1, seed=0):\n",
    "    import torch\n",
    "    sample_x = torch.tensor(sample_x)\n",
    "    prior = dist.Uniform(low=torch.max(sample_x-sigma, torch.tensor([x_min])), high=torch.min(sample_x+sigma, torch.tensor([x_max])))\n",
    "    x = prior.sample(torch.Size([n]))\n",
    "    return x.numpy()"
   ]
  },
  {
   "cell_type": "code",
   "execution_count": 53,
   "metadata": {},
   "outputs": [],
   "source": [
    "# The bounds in NN-space\n",
    "x_min = (0-0.1307)/0.3081\n",
    "x_max = (1-0.1307)/0.3081"
   ]
  },
  {
   "cell_type": "code",
   "execution_count": 61,
   "metadata": {},
   "outputs": [],
   "source": [
    "sample_idx = random.randrange(0, eval_x.shape[0])\n",
    "sample_x, sample_y = eval_x[sample_idx], eval_y[sample_idx]"
   ]
  },
  {
   "cell_type": "code",
   "execution_count": 84,
   "metadata": {},
   "outputs": [],
   "source": [
    "sample_quantile = 0.1"
   ]
  },
  {
   "cell_type": "code",
   "execution_count": null,
   "metadata": {},
   "outputs": [],
   "source": []
  },
  {
   "cell_type": "code",
   "execution_count": null,
   "metadata": {},
   "outputs": [],
   "source": []
  },
  {
   "cell_type": "code",
   "execution_count": null,
   "metadata": {},
   "outputs": [],
   "source": []
  },
  {
   "cell_type": "code",
   "execution_count": null,
   "metadata": {},
   "outputs": [],
   "source": []
  },
  {
   "cell_type": "code",
   "execution_count": null,
   "metadata": {},
   "outputs": [],
   "source": []
  },
  {
   "cell_type": "code",
   "execution_count": null,
   "metadata": {},
   "outputs": [],
   "source": []
  },
  {
   "cell_type": "code",
   "execution_count": null,
   "metadata": {},
   "outputs": [],
   "source": []
  },
  {
   "cell_type": "code",
   "execution_count": null,
   "metadata": {},
   "outputs": [],
   "source": []
  },
  {
   "cell_type": "code",
   "execution_count": null,
   "metadata": {
    "scrolled": true
   },
   "outputs": [],
   "source": [
    "extract = np.array([logits[idx][label] for idx,label in enumerate(train_labels)])\n",
    "-np.log(np.exp(extract+2)/np.exp(logits+2).sum(axis=1)).mean()"
   ]
  },
  {
   "cell_type": "code",
   "execution_count": null,
   "metadata": {},
   "outputs": [],
   "source": [
    "logits.shape\n",
    "labels_test.shape"
   ]
  },
  {
   "cell_type": "code",
   "execution_count": null,
   "metadata": {},
   "outputs": [],
   "source": [
    "def mnist_perturbation(inputs, mean=0, stddev=0.3, seed=0):\n",
    "    perturbation = tf.random.normal(shape,mean=0.0,stddev=1.0,dtype=tf.dtypes.float32,seed=None,name=\"pertubation\")\n",
    "    return inputs"
   ]
  },
  {
   "cell_type": "code",
   "execution_count": null,
   "metadata": {},
   "outputs": [],
   "source": []
  },
  {
   "cell_type": "code",
   "execution_count": null,
   "metadata": {},
   "outputs": [],
   "source": []
  },
  {
   "cell_type": "code",
   "execution_count": null,
   "metadata": {},
   "outputs": [],
   "source": [
    "# The bounds in NN-space\n",
    "x_min = (0-0.1307)/0.3081\n",
    "x_max = (1-0.1307)/0.3081"
   ]
  },
  {
   "cell_type": "code",
   "execution_count": null,
   "metadata": {},
   "outputs": [],
   "source": [
    "train_x"
   ]
  },
  {
   "cell_type": "code",
   "execution_count": null,
   "metadata": {},
   "outputs": [],
   "source": []
  },
  {
   "cell_type": "code",
   "execution_count": null,
   "metadata": {},
   "outputs": [],
   "source": []
  },
  {
   "cell_type": "code",
   "execution_count": null,
   "metadata": {},
   "outputs": [],
   "source": []
  },
  {
   "cell_type": "code",
   "execution_count": null,
   "metadata": {},
   "outputs": [],
   "source": []
  },
  {
   "cell_type": "markdown",
   "metadata": {},
   "source": [
    "<h1> Below are Testing </h1>"
   ]
  },
  {
   "cell_type": "code",
   "execution_count": null,
   "metadata": {},
   "outputs": [],
   "source": []
  },
  {
   "cell_type": "code",
   "execution_count": null,
   "metadata": {},
   "outputs": [],
   "source": []
  },
  {
   "cell_type": "code",
   "execution_count": null,
   "metadata": {},
   "outputs": [],
   "source": []
  },
  {
   "cell_type": "code",
   "execution_count": null,
   "metadata": {},
   "outputs": [],
   "source": []
  },
  {
   "cell_type": "code",
   "execution_count": null,
   "metadata": {},
   "outputs": [],
   "source": [
    "sample_quantile = 0.1\n",
    "termination_threshold = math.exp(-250)\n",
    "MH_steps = 100"
   ]
  },
  {
   "cell_type": "code",
   "execution_count": null,
   "metadata": {},
   "outputs": [],
   "source": []
  },
  {
   "cell_type": "code",
   "execution_count": null,
   "metadata": {},
   "outputs": [],
   "source": [
    "def mnist_perturbation"
   ]
  },
  {
   "cell_type": "code",
   "execution_count": null,
   "metadata": {},
   "outputs": [],
   "source": [
    "def mnist_perturbation(inputs, mean=0, stddev=0.3, seed=0):\n",
    "    perturbation = tf.random.normal(shape,mean=0.0,stddev=1.0,dtype=tf.dtypes.float32,seed=None,name=\"pertubation\")\n",
    "    return inputs"
   ]
  },
  {
   "cell_type": "code",
   "execution_count": null,
   "metadata": {},
   "outputs": [],
   "source": []
  },
  {
   "cell_type": "code",
   "execution_count": null,
   "metadata": {},
   "outputs": [],
   "source": [
    "def mnist_perturbation(data, mean=0, sd=0.3):\n",
    "    perturbation = np.random.normal(loc=mean, scale=sd, size=data.shape)\n",
    "    return data+perturbation"
   ]
  },
  {
   "cell_type": "code",
   "execution_count": null,
   "metadata": {},
   "outputs": [],
   "source": []
  },
  {
   "cell_type": "code",
   "execution_count": null,
   "metadata": {},
   "outputs": [],
   "source": []
  },
  {
   "cell_type": "code",
   "execution_count": null,
   "metadata": {},
   "outputs": [],
   "source": [
    "mnist_perturbation(train_x)"
   ]
  },
  {
   "cell_type": "code",
   "execution_count": null,
   "metadata": {},
   "outputs": [],
   "source": []
  },
  {
   "cell_type": "code",
   "execution_count": null,
   "metadata": {},
   "outputs": [],
   "source": []
  },
  {
   "cell_type": "code",
   "execution_count": null,
   "metadata": {},
   "outputs": [],
   "source": []
  },
  {
   "cell_type": "code",
   "execution_count": 7,
   "metadata": {},
   "outputs": [],
   "source": [
    "import random\n",
    "import scipy.stats"
   ]
  },
  {
   "cell_type": "code",
   "execution_count": 8,
   "metadata": {},
   "outputs": [],
   "source": [
    "def proposal(x_prior=0):\n",
    "    return scipy.stats.norm(x_prior,1).rvs()"
   ]
  },
  {
   "cell_type": "code",
   "execution_count": 9,
   "metadata": {},
   "outputs": [],
   "source": [
    "def real_density(x):\n",
    "    if x > 1 or x < 0:\n",
    "        return 0\n",
    "    else:\n",
    "        return 1"
   ]
  },
  {
   "cell_type": "code",
   "execution_count": 10,
   "metadata": {},
   "outputs": [],
   "source": [
    "def proposal_ratio(x, x_prior):\n",
    "    x_prior_against_x = scipy.stats.norm(x,1).pdf(x_prior)\n",
    "    x_against_x_prior = scipy.stats.norm(x_prior,1).pdf(x)\n",
    "    return x_prior_against_x/x_against_x_prior"
   ]
  },
  {
   "cell_type": "code",
   "execution_count": 11,
   "metadata": {},
   "outputs": [],
   "source": [
    "def real_density_ratio(x, x_prior):\n",
    "    if x_prior < 0 or x_prior > 1:\n",
    "        return 1e10\n",
    "    else:\n",
    "        return real_density(x)/real_density(x_prior)"
   ]
  },
  {
   "cell_type": "code",
   "execution_count": 12,
   "metadata": {},
   "outputs": [],
   "source": [
    "M = 100000\n",
    "x = proposal(3)\n",
    "result = []\n",
    "for i in range(M):\n",
    "    result += [x]\n",
    "    x_new = proposal(x)\n",
    "    alpha = min(1, proposal_ratio(x_new, x)*real_density_ratio(x_new, x))\n",
    "    u = random.random()\n",
    "    if u < alpha:\n",
    "        x = x_new\n",
    "    else:\n",
    "        pass"
   ]
  },
  {
   "cell_type": "code",
   "execution_count": 13,
   "metadata": {},
   "outputs": [
    {
     "data": {
      "text/plain": [
       "(array([4761., 4597., 4488., 4579., 4396., 4345., 4528., 4670., 4431.,\n",
       "        4598., 4323., 4396., 4485., 4503., 4396., 4418., 4367., 4580.,\n",
       "        4515., 4624.]),\n",
       " array([7.02345968e-05, 5.00656996e-02, 1.00061165e-01, 1.50056630e-01,\n",
       "        2.00052095e-01, 2.50047560e-01, 3.00043025e-01, 3.50038490e-01,\n",
       "        4.00033955e-01, 4.50029420e-01, 5.00024885e-01, 5.50020350e-01,\n",
       "        6.00015815e-01, 6.50011280e-01, 7.00006745e-01, 7.50002210e-01,\n",
       "        7.99997675e-01, 8.49993140e-01, 8.99988605e-01, 9.49984070e-01,\n",
       "        9.99979535e-01]),\n",
       " <a list of 20 Patch objects>)"
      ]
     },
     "execution_count": 13,
     "metadata": {},
     "output_type": "execute_result"
    },
    {
     "data": {
      "image/png": "[encoded data removed]",
      "text/plain": [
       "<Figure size 432x288 with 1 Axes>"
      ]
     },
     "metadata": {
      "needs_background": "light"
     },
     "output_type": "display_data"
    }
   ],
   "source": [
    "import matplotlib.pyplot as plt\n",
    "%matplotlib inline  \n",
    "plt.hist(result[10000:], bins=20)"
   ]
  },
  {
   "cell_type": "code",
   "execution_count": null,
   "metadata": {},
   "outputs": [],
   "source": []
  }
 ],
 "metadata": {
  "kernelspec": {
   "display_name": "Python (flo)",
   "language": "python",
   "name": "florence"
  },
  "language_info": {
   "codemirror_mode": {
    "name": "ipython",
    "version": 3
   },
   "file_extension": ".py",
   "mimetype": "text/x-python",
   "name": "python",
   "nbconvert_exporter": "python",
   "pygments_lexer": "ipython3",
   "version": "3.6.8"
  }
 },
 "nbformat": 4,
 "nbformat_minor": 2
}
